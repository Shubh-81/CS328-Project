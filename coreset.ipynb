{
 "cells": [
  {
   "cell_type": "code",
   "execution_count": 54,
   "metadata": {},
   "outputs": [],
   "source": [
    "import numpy as np\n",
    "from scipy.spatial.distance import cdist\n",
    "import matplotlib.pyplot as plt\n",
    "import pandas as pd\n",
    "from sklearn.datasets import make_blobs\n",
    "from sklearn.metrics import rand_score\n",
    "from sklearn.cluster import KMeans\n",
    "import time"
   ]
  },
  {
   "cell_type": "code",
   "execution_count": 55,
   "metadata": {},
   "outputs": [],
   "source": [
    "def coreset(data, m):\n",
    "    N = data.shape[0]\n",
    "    \n",
    "    mean = np.mean(data, axis=0)\n",
    "    \n",
    "    q = np.linalg.norm(data - mean, axis=1)**2\n",
    "    sum = np.sum(q)\n",
    "    q = 0.5 * (1.0/N + q/sum)\n",
    "    \n",
    "    samples = np.random.choice(N, m, p=q)\n",
    "    coreset = data[samples]\n",
    "    weights = 1.0 / (q[samples] * m)\n",
    "    \n",
    "    return coreset, weights "
   ]
  },
  {
   "cell_type": "code",
   "execution_count": 56,
   "metadata": {},
   "outputs": [],
   "source": [
    "def kmeans_cost(data, centers, labels):\n",
    "    cost = 0.0\n",
    "    for i in range(len(data)):\n",
    "        distance = np.linalg.norm(data[i] - centers[labels[i]]) ** 2\n",
    "        cost += distance\n",
    "    return cost"
   ]
  },
  {
   "cell_type": "code",
   "execution_count": 70,
   "metadata": {},
   "outputs": [],
   "source": [
    "def kmedoids_cost(data, centroids, labels):\n",
    "    dist = cdist(data, centroids, 'cityblock')\n",
    "    total_cost = np.sum(dist[np.arange(len(data)), labels])\n",
    "    return total_cost"
   ]
  },
  {
   "cell_type": "code",
   "execution_count": 68,
   "metadata": {},
   "outputs": [],
   "source": [
    "traindata = pd.DataFrame(pd.read_csv(\"bio_train.dat\", sep=\"\\t\", header=None))\n",
    "traindata = traindata.dropna()\n",
    "traindata = traindata.drop_duplicates()\n",
    "traindata = traindata[:10000]"
   ]
  },
  {
   "cell_type": "code",
   "execution_count": 81,
   "metadata": {},
   "outputs": [],
   "source": [
    "np.random.seed(42)"
   ]
  },
  {
   "cell_type": "code",
   "execution_count": 69,
   "metadata": {},
   "outputs": [],
   "source": [
    "def kmediod(data, weights, k, max_iterations=500):\n",
    "    data = np.asarray(data)\n",
    "    \n",
    "    mins = data.min(axis=0)\n",
    "    maxs = data.max(axis=0)\n",
    "    centroids = np.random.rand(k, data.shape[1]) * (maxs - mins) + mins\n",
    "    \n",
    "    for _ in range(max_iterations):\n",
    "        dist = cdist(data, centroids, 'cityblock')\n",
    "        weighted_dist = dist * weights[:, np.newaxis]\n",
    "        labels = np.argmin(weighted_dist, axis=1)\n",
    "        \n",
    "        for j in range(k):\n",
    "            cluster = labels == j\n",
    "            if weights[cluster].sum() > 0:\n",
    "                centroids[j] = np.average(data[cluster], axis=0, weights=weights[cluster])\n",
    "            else:\n",
    "                centroids[j] = np.random.rand(1, data.shape[1]) * (maxs - mins) + mins\n",
    "    \n",
    "    return centroids\n",
    "\n",
    "def predict(data, centroids):\n",
    "    dist = cdist(data, centroids, 'cityblock')\n",
    "    labels = np.argmin(dist, axis=1)\n",
    "    return labels"
   ]
  },
  {
   "cell_type": "code",
   "execution_count": 91,
   "metadata": {},
   "outputs": [],
   "source": [
    "def get_results(coreset_size, n_clusters, X, data_name):\n",
    "    centers = kmediod(X, np.ones(X.shape[0]), n_clusters)\n",
    "    optimal_labels = predict(X, centers)\n",
    "    cost = kmedoids_cost(X, centers, optimal_labels)\n",
    "    results = []\n",
    "    for ssize in coreset_size:\n",
    "        avg_cost = 0\n",
    "        start_time = time.time()\n",
    "        rand_index = 0.0\n",
    "        for _ in range(5):\n",
    "            X_sample, weight = coreset(X, ssize)\n",
    "            kmeans = kmediod(X_sample, weight, n_clusters)\n",
    "            labels = predict(X, kmeans)\n",
    "            avg_cost += kmedoids_cost(X, kmeans, labels)\n",
    "            rand_index += rand_score(optimal_labels, labels)\n",
    "        rand_index /= 5\n",
    "        end_time = time.time()\n",
    "        avg_cost /= 5\n",
    "        reduction = ((X.shape[0] - X_sample.shape[0])/X.shape[0])*100\n",
    "        error = (abs(avg_cost - cost)/cost)*100\n",
    "        results.append({'Sampling Type': 'Lightweight Coresets',\n",
    "                            'Coreset Size': X_sample.shape[0],\n",
    "                            'Average Cost': avg_cost,\n",
    "                            'Reduction in Data Size': reduction,\n",
    "                            'Error': error,\n",
    "                            'Avg Rand Index': rand_index,\n",
    "                            'Data': data_name,\n",
    "                            'Optimal Cost': cost,\n",
    "                            'Avg Time': (end_time - start_time)/5,\n",
    "                            'Clustering Algorithm': 'KMedoids'})\n",
    "    return results"
   ]
  },
  {
   "cell_type": "code",
   "execution_count": 92,
   "metadata": {},
   "outputs": [
    {
     "data": {
      "text/plain": [
       "(400, 4096)"
      ]
     },
     "execution_count": 92,
     "metadata": {},
     "output_type": "execute_result"
    }
   ],
   "source": [
    "mat_data = scipy.io.loadmat('olivettifaces.mat')\n",
    "traindata = mat_data['faces'].T\n",
    "traindata = pd.DataFrame(traindata)\n",
    "traindata.dropna()\n",
    "traindata.drop_duplicates()\n",
    "traindata.shape"
   ]
  },
  {
   "cell_type": "code",
   "execution_count": 93,
   "metadata": {},
   "outputs": [
    {
     "name": "stdout",
     "output_type": "stream",
     "text": [
      "Optimal Cost: 28280090.101426713\n"
     ]
    }
   ],
   "source": [
    "centers = kmediod(traindata.values, np.ones(traindata.shape[0]), 50)\n",
    "labels = predict(traindata.values, centers)\n",
    "cost = kmedoids_cost(traindata.values, centers, labels)\n",
    "print(f'Optimal Cost: {cost}')"
   ]
  },
  {
   "cell_type": "code",
   "execution_count": 96,
   "metadata": {},
   "outputs": [],
   "source": [
    "results = get_results([10, 20, 50, 70, 100], 10, traindata.values, data_name='Face')"
   ]
  },
  {
   "cell_type": "code",
   "execution_count": 97,
   "metadata": {},
   "outputs": [
    {
     "data": {
      "text/plain": [
       "[{'Sampling Type': 'Lightweight Coresets',\n",
       "  'Coreset Size': 10,\n",
       "  'Average Cost': 44466623.480324544,\n",
       "  'Reduction in Data Size': 97.5,\n",
       "  'Error': 32.706231948138935,\n",
       "  'Avg Rand Index': 0.7236315789473683,\n",
       "  'Data': 'Face',\n",
       "  'Optimal Cost': 33507562.401215583,\n",
       "  'Avg Time': 0.3841738224029541,\n",
       "  'Clustering Algorithm': 'KMedoids'},\n",
       " {'Sampling Type': 'Lightweight Coresets',\n",
       "  'Coreset Size': 20,\n",
       "  'Average Cost': 40296261.73404654,\n",
       "  'Reduction in Data Size': 95.0,\n",
       "  'Error': 20.260200522926368,\n",
       "  'Avg Rand Index': 0.7109298245614035,\n",
       "  'Data': 'Face',\n",
       "  'Optimal Cost': 33507562.401215583,\n",
       "  'Avg Time': 0.7206645965576172,\n",
       "  'Clustering Algorithm': 'KMedoids'},\n",
       " {'Sampling Type': 'Lightweight Coresets',\n",
       "  'Coreset Size': 50,\n",
       "  'Average Cost': 36225223.728851005,\n",
       "  'Reduction in Data Size': 87.5,\n",
       "  'Error': 8.110590961808763,\n",
       "  'Avg Rand Index': 0.809310776942356,\n",
       "  'Data': 'Face',\n",
       "  'Optimal Cost': 33507562.401215583,\n",
       "  'Avg Time': 1.0982349872589112,\n",
       "  'Clustering Algorithm': 'KMedoids'},\n",
       " {'Sampling Type': 'Lightweight Coresets',\n",
       "  'Coreset Size': 70,\n",
       "  'Average Cost': 36230362.913023084,\n",
       "  'Reduction in Data Size': 82.5,\n",
       "  'Error': 8.1259283477712,\n",
       "  'Avg Rand Index': 0.8277694235588973,\n",
       "  'Data': 'Face',\n",
       "  'Optimal Cost': 33507562.401215583,\n",
       "  'Avg Time': 1.7174665451049804,\n",
       "  'Clustering Algorithm': 'KMedoids'},\n",
       " {'Sampling Type': 'Lightweight Coresets',\n",
       "  'Coreset Size': 100,\n",
       "  'Average Cost': 35562449.00419768,\n",
       "  'Reduction in Data Size': 75.0,\n",
       "  'Error': 6.132605464930953,\n",
       "  'Avg Rand Index': 0.8374210526315788,\n",
       "  'Data': 'Face',\n",
       "  'Optimal Cost': 33507562.401215583,\n",
       "  'Avg Time': 2.126578378677368,\n",
       "  'Clustering Algorithm': 'KMedoids'}]"
      ]
     },
     "execution_count": 97,
     "metadata": {},
     "output_type": "execute_result"
    }
   ],
   "source": [
    "results"
   ]
  },
  {
   "cell_type": "code",
   "execution_count": 98,
   "metadata": {},
   "outputs": [],
   "source": [
    "df = pd.read_csv('results.csv')\n",
    "df = pd.concat([df, pd.DataFrame(results)], ignore_index=True)\n",
    "df.to_csv('results.csv', index=False)"
   ]
  },
  {
   "cell_type": "code",
   "execution_count": 87,
   "metadata": {},
   "outputs": [],
   "source": [
    "df.to_csv('results.csv', index=False)"
   ]
  },
  {
   "cell_type": "code",
   "execution_count": 88,
   "metadata": {},
   "outputs": [],
   "source": [
    "import torch\n",
    "from torchvision import datasets, transforms\n",
    "import numpy as np"
   ]
  },
  {
   "cell_type": "code",
   "execution_count": 89,
   "metadata": {},
   "outputs": [],
   "source": [
    "transform = transforms.Compose([transforms.ToTensor(), transforms.Normalize((0.5,), (0.5,))])\n",
    "train_dataset = datasets.FashionMNIST(root='./data', train=True, download=True, transform=transform)\n",
    "test_dataset = datasets.FashionMNIST(root='./data', train=False, download=True, transform=transform)\n",
    "\n",
    "X_train = train_dataset.data.numpy().reshape(-1, 28*28) / 255.0\n",
    "Y_train = train_dataset.targets.numpy()\n",
    "X_test = test_dataset.data.numpy().reshape(-1, 28*28) / 255.0\n",
    "Y_test = test_dataset.targets.numpy()"
   ]
  },
  {
   "cell_type": "code",
   "execution_count": 90,
   "metadata": {},
   "outputs": [
    {
     "data": {
      "text/plain": [
       "((60000, 784), (60000,), (10000, 784), (10000,))"
      ]
     },
     "execution_count": 90,
     "metadata": {},
     "output_type": "execute_result"
    }
   ],
   "source": [
    "X_train.shape, Y_train.shape, X_test.shape, Y_test.shape"
   ]
  },
  {
   "cell_type": "code",
   "execution_count": 45,
   "metadata": {},
   "outputs": [
    {
     "name": "stderr",
     "output_type": "stream",
     "text": [
      "/Users/shubhagarwal/anaconda3/envs/nlp/lib/python3.11/site-packages/sklearn/cluster/_kmeans.py:870: FutureWarning: The default value of `n_init` will change from 10 to 'auto' in 1.4. Set the value of `n_init` explicitly to suppress the warning\n",
      "  warnings.warn(\n"
     ]
    },
    {
     "name": "stdout",
     "output_type": "stream",
     "text": [
      "Cost of KMeans: 1906652.134114885\n"
     ]
    }
   ],
   "source": [
    "kmeans = KMeans(n_clusters=10, init='k-means++', random_state=42).fit(X_train)\n",
    "centers = kmeans.cluster_centers_\n",
    "optimal_labels = kmeans.labels_\n",
    "cost = kmeans_cost(X_train, centers, kmeans.labels_)\n",
    "print(f'Cost of KMeans: {cost}')"
   ]
  },
  {
   "cell_type": "code",
   "execution_count": 47,
   "metadata": {},
   "outputs": [
    {
     "name": "stderr",
     "output_type": "stream",
     "text": [
      "/Users/shubhagarwal/anaconda3/envs/nlp/lib/python3.11/site-packages/sklearn/cluster/_kmeans.py:870: FutureWarning: The default value of `n_init` will change from 10 to 'auto' in 1.4. Set the value of `n_init` explicitly to suppress the warning\n",
      "  warnings.warn(\n",
      "/Users/shubhagarwal/anaconda3/envs/nlp/lib/python3.11/site-packages/sklearn/cluster/_kmeans.py:870: FutureWarning: The default value of `n_init` will change from 10 to 'auto' in 1.4. Set the value of `n_init` explicitly to suppress the warning\n",
      "  warnings.warn(\n",
      "/Users/shubhagarwal/anaconda3/envs/nlp/lib/python3.11/site-packages/sklearn/cluster/_kmeans.py:870: FutureWarning: The default value of `n_init` will change from 10 to 'auto' in 1.4. Set the value of `n_init` explicitly to suppress the warning\n",
      "  warnings.warn(\n",
      "/Users/shubhagarwal/anaconda3/envs/nlp/lib/python3.11/site-packages/sklearn/cluster/_kmeans.py:870: FutureWarning: The default value of `n_init` will change from 10 to 'auto' in 1.4. Set the value of `n_init` explicitly to suppress the warning\n",
      "  warnings.warn(\n",
      "/Users/shubhagarwal/anaconda3/envs/nlp/lib/python3.11/site-packages/sklearn/cluster/_kmeans.py:870: FutureWarning: The default value of `n_init` will change from 10 to 'auto' in 1.4. Set the value of `n_init` explicitly to suppress the warning\n",
      "  warnings.warn(\n",
      "/Users/shubhagarwal/anaconda3/envs/nlp/lib/python3.11/site-packages/sklearn/cluster/_kmeans.py:870: FutureWarning: The default value of `n_init` will change from 10 to 'auto' in 1.4. Set the value of `n_init` explicitly to suppress the warning\n",
      "  warnings.warn(\n",
      "/Users/shubhagarwal/anaconda3/envs/nlp/lib/python3.11/site-packages/sklearn/cluster/_kmeans.py:870: FutureWarning: The default value of `n_init` will change from 10 to 'auto' in 1.4. Set the value of `n_init` explicitly to suppress the warning\n",
      "  warnings.warn(\n",
      "/Users/shubhagarwal/anaconda3/envs/nlp/lib/python3.11/site-packages/sklearn/cluster/_kmeans.py:870: FutureWarning: The default value of `n_init` will change from 10 to 'auto' in 1.4. Set the value of `n_init` explicitly to suppress the warning\n",
      "  warnings.warn(\n",
      "/Users/shubhagarwal/anaconda3/envs/nlp/lib/python3.11/site-packages/sklearn/cluster/_kmeans.py:870: FutureWarning: The default value of `n_init` will change from 10 to 'auto' in 1.4. Set the value of `n_init` explicitly to suppress the warning\n",
      "  warnings.warn(\n",
      "/Users/shubhagarwal/anaconda3/envs/nlp/lib/python3.11/site-packages/sklearn/cluster/_kmeans.py:870: FutureWarning: The default value of `n_init` will change from 10 to 'auto' in 1.4. Set the value of `n_init` explicitly to suppress the warning\n",
      "  warnings.warn(\n",
      "/Users/shubhagarwal/anaconda3/envs/nlp/lib/python3.11/site-packages/sklearn/cluster/_kmeans.py:870: FutureWarning: The default value of `n_init` will change from 10 to 'auto' in 1.4. Set the value of `n_init` explicitly to suppress the warning\n",
      "  warnings.warn(\n",
      "/Users/shubhagarwal/anaconda3/envs/nlp/lib/python3.11/site-packages/sklearn/cluster/_kmeans.py:870: FutureWarning: The default value of `n_init` will change from 10 to 'auto' in 1.4. Set the value of `n_init` explicitly to suppress the warning\n",
      "  warnings.warn(\n",
      "/Users/shubhagarwal/anaconda3/envs/nlp/lib/python3.11/site-packages/sklearn/cluster/_kmeans.py:870: FutureWarning: The default value of `n_init` will change from 10 to 'auto' in 1.4. Set the value of `n_init` explicitly to suppress the warning\n",
      "  warnings.warn(\n",
      "/Users/shubhagarwal/anaconda3/envs/nlp/lib/python3.11/site-packages/sklearn/cluster/_kmeans.py:870: FutureWarning: The default value of `n_init` will change from 10 to 'auto' in 1.4. Set the value of `n_init` explicitly to suppress the warning\n",
      "  warnings.warn(\n",
      "/Users/shubhagarwal/anaconda3/envs/nlp/lib/python3.11/site-packages/sklearn/cluster/_kmeans.py:870: FutureWarning: The default value of `n_init` will change from 10 to 'auto' in 1.4. Set the value of `n_init` explicitly to suppress the warning\n",
      "  warnings.warn(\n",
      "/Users/shubhagarwal/anaconda3/envs/nlp/lib/python3.11/site-packages/sklearn/cluster/_kmeans.py:870: FutureWarning: The default value of `n_init` will change from 10 to 'auto' in 1.4. Set the value of `n_init` explicitly to suppress the warning\n",
      "  warnings.warn(\n",
      "/Users/shubhagarwal/anaconda3/envs/nlp/lib/python3.11/site-packages/sklearn/cluster/_kmeans.py:870: FutureWarning: The default value of `n_init` will change from 10 to 'auto' in 1.4. Set the value of `n_init` explicitly to suppress the warning\n",
      "  warnings.warn(\n",
      "/Users/shubhagarwal/anaconda3/envs/nlp/lib/python3.11/site-packages/sklearn/cluster/_kmeans.py:870: FutureWarning: The default value of `n_init` will change from 10 to 'auto' in 1.4. Set the value of `n_init` explicitly to suppress the warning\n",
      "  warnings.warn(\n",
      "/Users/shubhagarwal/anaconda3/envs/nlp/lib/python3.11/site-packages/sklearn/cluster/_kmeans.py:870: FutureWarning: The default value of `n_init` will change from 10 to 'auto' in 1.4. Set the value of `n_init` explicitly to suppress the warning\n",
      "  warnings.warn(\n",
      "/Users/shubhagarwal/anaconda3/envs/nlp/lib/python3.11/site-packages/sklearn/cluster/_kmeans.py:870: FutureWarning: The default value of `n_init` will change from 10 to 'auto' in 1.4. Set the value of `n_init` explicitly to suppress the warning\n",
      "  warnings.warn(\n",
      "/Users/shubhagarwal/anaconda3/envs/nlp/lib/python3.11/site-packages/sklearn/cluster/_kmeans.py:870: FutureWarning: The default value of `n_init` will change from 10 to 'auto' in 1.4. Set the value of `n_init` explicitly to suppress the warning\n",
      "  warnings.warn(\n",
      "/Users/shubhagarwal/anaconda3/envs/nlp/lib/python3.11/site-packages/sklearn/cluster/_kmeans.py:870: FutureWarning: The default value of `n_init` will change from 10 to 'auto' in 1.4. Set the value of `n_init` explicitly to suppress the warning\n",
      "  warnings.warn(\n",
      "/Users/shubhagarwal/anaconda3/envs/nlp/lib/python3.11/site-packages/sklearn/cluster/_kmeans.py:870: FutureWarning: The default value of `n_init` will change from 10 to 'auto' in 1.4. Set the value of `n_init` explicitly to suppress the warning\n",
      "  warnings.warn(\n",
      "/Users/shubhagarwal/anaconda3/envs/nlp/lib/python3.11/site-packages/sklearn/cluster/_kmeans.py:870: FutureWarning: The default value of `n_init` will change from 10 to 'auto' in 1.4. Set the value of `n_init` explicitly to suppress the warning\n",
      "  warnings.warn(\n",
      "/Users/shubhagarwal/anaconda3/envs/nlp/lib/python3.11/site-packages/sklearn/cluster/_kmeans.py:870: FutureWarning: The default value of `n_init` will change from 10 to 'auto' in 1.4. Set the value of `n_init` explicitly to suppress the warning\n",
      "  warnings.warn(\n",
      "/Users/shubhagarwal/anaconda3/envs/nlp/lib/python3.11/site-packages/sklearn/cluster/_kmeans.py:870: FutureWarning: The default value of `n_init` will change from 10 to 'auto' in 1.4. Set the value of `n_init` explicitly to suppress the warning\n",
      "  warnings.warn(\n",
      "/Users/shubhagarwal/anaconda3/envs/nlp/lib/python3.11/site-packages/sklearn/cluster/_kmeans.py:870: FutureWarning: The default value of `n_init` will change from 10 to 'auto' in 1.4. Set the value of `n_init` explicitly to suppress the warning\n",
      "  warnings.warn(\n",
      "/Users/shubhagarwal/anaconda3/envs/nlp/lib/python3.11/site-packages/sklearn/cluster/_kmeans.py:870: FutureWarning: The default value of `n_init` will change from 10 to 'auto' in 1.4. Set the value of `n_init` explicitly to suppress the warning\n",
      "  warnings.warn(\n",
      "/Users/shubhagarwal/anaconda3/envs/nlp/lib/python3.11/site-packages/sklearn/cluster/_kmeans.py:870: FutureWarning: The default value of `n_init` will change from 10 to 'auto' in 1.4. Set the value of `n_init` explicitly to suppress the warning\n",
      "  warnings.warn(\n",
      "/Users/shubhagarwal/anaconda3/envs/nlp/lib/python3.11/site-packages/sklearn/cluster/_kmeans.py:870: FutureWarning: The default value of `n_init` will change from 10 to 'auto' in 1.4. Set the value of `n_init` explicitly to suppress the warning\n",
      "  warnings.warn(\n",
      "/Users/shubhagarwal/anaconda3/envs/nlp/lib/python3.11/site-packages/sklearn/cluster/_kmeans.py:870: FutureWarning: The default value of `n_init` will change from 10 to 'auto' in 1.4. Set the value of `n_init` explicitly to suppress the warning\n",
      "  warnings.warn(\n",
      "/Users/shubhagarwal/anaconda3/envs/nlp/lib/python3.11/site-packages/sklearn/cluster/_kmeans.py:870: FutureWarning: The default value of `n_init` will change from 10 to 'auto' in 1.4. Set the value of `n_init` explicitly to suppress the warning\n",
      "  warnings.warn(\n",
      "/Users/shubhagarwal/anaconda3/envs/nlp/lib/python3.11/site-packages/sklearn/cluster/_kmeans.py:870: FutureWarning: The default value of `n_init` will change from 10 to 'auto' in 1.4. Set the value of `n_init` explicitly to suppress the warning\n",
      "  warnings.warn(\n",
      "/Users/shubhagarwal/anaconda3/envs/nlp/lib/python3.11/site-packages/sklearn/cluster/_kmeans.py:870: FutureWarning: The default value of `n_init` will change from 10 to 'auto' in 1.4. Set the value of `n_init` explicitly to suppress the warning\n",
      "  warnings.warn(\n",
      "/Users/shubhagarwal/anaconda3/envs/nlp/lib/python3.11/site-packages/sklearn/cluster/_kmeans.py:870: FutureWarning: The default value of `n_init` will change from 10 to 'auto' in 1.4. Set the value of `n_init` explicitly to suppress the warning\n",
      "  warnings.warn(\n",
      "/Users/shubhagarwal/anaconda3/envs/nlp/lib/python3.11/site-packages/sklearn/cluster/_kmeans.py:870: FutureWarning: The default value of `n_init` will change from 10 to 'auto' in 1.4. Set the value of `n_init` explicitly to suppress the warning\n",
      "  warnings.warn(\n",
      "/Users/shubhagarwal/anaconda3/envs/nlp/lib/python3.11/site-packages/sklearn/cluster/_kmeans.py:870: FutureWarning: The default value of `n_init` will change from 10 to 'auto' in 1.4. Set the value of `n_init` explicitly to suppress the warning\n",
      "  warnings.warn(\n",
      "/Users/shubhagarwal/anaconda3/envs/nlp/lib/python3.11/site-packages/sklearn/cluster/_kmeans.py:870: FutureWarning: The default value of `n_init` will change from 10 to 'auto' in 1.4. Set the value of `n_init` explicitly to suppress the warning\n",
      "  warnings.warn(\n",
      "/Users/shubhagarwal/anaconda3/envs/nlp/lib/python3.11/site-packages/sklearn/cluster/_kmeans.py:870: FutureWarning: The default value of `n_init` will change from 10 to 'auto' in 1.4. Set the value of `n_init` explicitly to suppress the warning\n",
      "  warnings.warn(\n",
      "/Users/shubhagarwal/anaconda3/envs/nlp/lib/python3.11/site-packages/sklearn/cluster/_kmeans.py:870: FutureWarning: The default value of `n_init` will change from 10 to 'auto' in 1.4. Set the value of `n_init` explicitly to suppress the warning\n",
      "  warnings.warn(\n",
      "/Users/shubhagarwal/anaconda3/envs/nlp/lib/python3.11/site-packages/sklearn/cluster/_kmeans.py:870: FutureWarning: The default value of `n_init` will change from 10 to 'auto' in 1.4. Set the value of `n_init` explicitly to suppress the warning\n",
      "  warnings.warn(\n",
      "/Users/shubhagarwal/anaconda3/envs/nlp/lib/python3.11/site-packages/sklearn/cluster/_kmeans.py:870: FutureWarning: The default value of `n_init` will change from 10 to 'auto' in 1.4. Set the value of `n_init` explicitly to suppress the warning\n",
      "  warnings.warn(\n",
      "/Users/shubhagarwal/anaconda3/envs/nlp/lib/python3.11/site-packages/sklearn/cluster/_kmeans.py:870: FutureWarning: The default value of `n_init` will change from 10 to 'auto' in 1.4. Set the value of `n_init` explicitly to suppress the warning\n",
      "  warnings.warn(\n",
      "/Users/shubhagarwal/anaconda3/envs/nlp/lib/python3.11/site-packages/sklearn/cluster/_kmeans.py:870: FutureWarning: The default value of `n_init` will change from 10 to 'auto' in 1.4. Set the value of `n_init` explicitly to suppress the warning\n",
      "  warnings.warn(\n",
      "/Users/shubhagarwal/anaconda3/envs/nlp/lib/python3.11/site-packages/sklearn/cluster/_kmeans.py:870: FutureWarning: The default value of `n_init` will change from 10 to 'auto' in 1.4. Set the value of `n_init` explicitly to suppress the warning\n",
      "  warnings.warn(\n"
     ]
    }
   ],
   "source": [
    "results = get_results([100, 500, 1000, 1500, 3500, 5000, 7000, 10000, 20000], 10, X_train, optimal_labels, cost, 'FMNIST')"
   ]
  },
  {
   "cell_type": "code",
   "execution_count": 48,
   "metadata": {},
   "outputs": [
    {
     "data": {
      "text/plain": [
       "[{'Sampling Type': 'Lightweight Coresets',\n",
       "  'Coreset Size': 100,\n",
       "  'Average Cost': 2158636.326811089,\n",
       "  'Reduction in Data Size': 99.83333333333333,\n",
       "  'Error': 13.216054894732093,\n",
       "  'Avg Rand Index': 0.9262602944493519,\n",
       "  'Data': 'FMNIST',\n",
       "  'Optimal Cost': 1906652.134114885,\n",
       "  'Avg Time': 0.7076163768768311},\n",
       " {'Sampling Type': 'Lightweight Coresets',\n",
       "  'Coreset Size': 500,\n",
       "  'Average Cost': 1964584.322251501,\n",
       "  'Reduction in Data Size': 99.16666666666667,\n",
       "  'Error': 3.038424634471121,\n",
       "  'Avg Rand Index': 0.9439008477919076,\n",
       "  'Data': 'FMNIST',\n",
       "  'Optimal Cost': 1906652.134114885,\n",
       "  'Avg Time': 0.8357719898223877},\n",
       " {'Sampling Type': 'Lightweight Coresets',\n",
       "  'Coreset Size': 1000,\n",
       "  'Average Cost': 1952921.3907622057,\n",
       "  'Reduction in Data Size': 98.33333333333333,\n",
       "  'Error': 2.4267277611602722,\n",
       "  'Avg Rand Index': 0.9322383896398273,\n",
       "  'Data': 'FMNIST',\n",
       "  'Optimal Cost': 1906652.134114885,\n",
       "  'Avg Time': 0.8374724388122559},\n",
       " {'Sampling Type': 'Lightweight Coresets',\n",
       "  'Coreset Size': 1500,\n",
       "  'Average Cost': 1931496.0114187903,\n",
       "  'Reduction in Data Size': 97.5,\n",
       "  'Error': 1.3030104894010182,\n",
       "  'Avg Rand Index': 0.9453711291854864,\n",
       "  'Data': 'FMNIST',\n",
       "  'Optimal Cost': 1906652.134114885,\n",
       "  'Avg Time': 1.0833116054534913},\n",
       " {'Sampling Type': 'Lightweight Coresets',\n",
       "  'Coreset Size': 3500,\n",
       "  'Average Cost': 1919632.3460532937,\n",
       "  'Reduction in Data Size': 94.16666666666667,\n",
       "  'Error': 0.6807855353454082,\n",
       "  'Avg Rand Index': 0.9642496271604527,\n",
       "  'Data': 'FMNIST',\n",
       "  'Optimal Cost': 1906652.134114885,\n",
       "  'Avg Time': 1.4707108020782471},\n",
       " {'Sampling Type': 'Lightweight Coresets',\n",
       "  'Coreset Size': 5000,\n",
       "  'Average Cost': 1914711.7606993988,\n",
       "  'Reduction in Data Size': 91.66666666666666,\n",
       "  'Error': 0.4227109098878852,\n",
       "  'Avg Rand Index': 0.9812619324766525,\n",
       "  'Data': 'FMNIST',\n",
       "  'Optimal Cost': 1906652.134114885,\n",
       "  'Avg Time': 2.0055915832519533},\n",
       " {'Sampling Type': 'Lightweight Coresets',\n",
       "  'Coreset Size': 7000,\n",
       "  'Average Cost': 1916026.3616180539,\n",
       "  'Reduction in Data Size': 88.33333333333333,\n",
       "  'Error': 0.4916590360370383,\n",
       "  'Avg Rand Index': 0.9721773621782586,\n",
       "  'Data': 'FMNIST',\n",
       "  'Optimal Cost': 1906652.134114885,\n",
       "  'Avg Time': 2.750548219680786},\n",
       " {'Sampling Type': 'Lightweight Coresets',\n",
       "  'Coreset Size': 10000,\n",
       "  'Average Cost': 1912398.213069365,\n",
       "  'Reduction in Data Size': 83.33333333333334,\n",
       "  'Error': 0.30137007436583924,\n",
       "  'Avg Rand Index': 0.9794751572526209,\n",
       "  'Data': 'FMNIST',\n",
       "  'Optimal Cost': 1906652.134114885,\n",
       "  'Avg Time': 6.492138814926148},\n",
       " {'Sampling Type': 'Lightweight Coresets',\n",
       "  'Coreset Size': 20000,\n",
       "  'Average Cost': 1908022.8373943926,\n",
       "  'Reduction in Data Size': 66.66666666666666,\n",
       "  'Error': 0.07189058008968656,\n",
       "  'Avg Rand Index': 0.9917007789018706,\n",
       "  'Data': 'FMNIST',\n",
       "  'Optimal Cost': 1906652.134114885,\n",
       "  'Avg Time': 6.524268770217896}]"
      ]
     },
     "execution_count": 48,
     "metadata": {},
     "output_type": "execute_result"
    }
   ],
   "source": [
    "results"
   ]
  },
  {
   "cell_type": "code",
   "execution_count": 50,
   "metadata": {},
   "outputs": [
    {
     "data": {
      "text/html": [
       "<div>\n",
       "<style scoped>\n",
       "    .dataframe tbody tr th:only-of-type {\n",
       "        vertical-align: middle;\n",
       "    }\n",
       "\n",
       "    .dataframe tbody tr th {\n",
       "        vertical-align: top;\n",
       "    }\n",
       "\n",
       "    .dataframe thead th {\n",
       "        text-align: right;\n",
       "    }\n",
       "</style>\n",
       "<table border=\"1\" class=\"dataframe\">\n",
       "  <thead>\n",
       "    <tr style=\"text-align: right;\">\n",
       "      <th></th>\n",
       "      <th>Sampling Type</th>\n",
       "      <th>Coreset Size</th>\n",
       "      <th>Average Cost</th>\n",
       "      <th>Reduction in Data Size</th>\n",
       "      <th>Error</th>\n",
       "      <th>Avg Rand Index</th>\n",
       "      <th>Data</th>\n",
       "      <th>Optimal Cost</th>\n",
       "      <th>Avg Time</th>\n",
       "      <th>Num Iterations Volume Sampling</th>\n",
       "    </tr>\n",
       "  </thead>\n",
       "  <tbody>\n",
       "    <tr>\n",
       "      <th>0</th>\n",
       "      <td>Volume Sampling</td>\n",
       "      <td>474</td>\n",
       "      <td>1.150492e+11</td>\n",
       "      <td>95.260000</td>\n",
       "      <td>463.848772</td>\n",
       "      <td>0.963519</td>\n",
       "      <td>KDD</td>\n",
       "      <td>2.040426e+10</td>\n",
       "      <td>0.211612</td>\n",
       "      <td>1.0</td>\n",
       "    </tr>\n",
       "    <tr>\n",
       "      <th>1</th>\n",
       "      <td>Volume Sampling</td>\n",
       "      <td>475</td>\n",
       "      <td>1.326848e+11</td>\n",
       "      <td>95.250000</td>\n",
       "      <td>550.279722</td>\n",
       "      <td>0.966513</td>\n",
       "      <td>KDD</td>\n",
       "      <td>2.040426e+10</td>\n",
       "      <td>0.221085</td>\n",
       "      <td>2.0</td>\n",
       "    </tr>\n",
       "    <tr>\n",
       "      <th>2</th>\n",
       "      <td>Volume Sampling</td>\n",
       "      <td>478</td>\n",
       "      <td>1.755777e+11</td>\n",
       "      <td>95.220000</td>\n",
       "      <td>760.495267</td>\n",
       "      <td>0.953055</td>\n",
       "      <td>KDD</td>\n",
       "      <td>2.040426e+10</td>\n",
       "      <td>0.255715</td>\n",
       "      <td>5.0</td>\n",
       "    </tr>\n",
       "    <tr>\n",
       "      <th>3</th>\n",
       "      <td>Volume Sampling</td>\n",
       "      <td>926</td>\n",
       "      <td>5.792439e+10</td>\n",
       "      <td>90.740000</td>\n",
       "      <td>183.883834</td>\n",
       "      <td>0.972418</td>\n",
       "      <td>KDD</td>\n",
       "      <td>2.040426e+10</td>\n",
       "      <td>0.265303</td>\n",
       "      <td>1.0</td>\n",
       "    </tr>\n",
       "    <tr>\n",
       "      <th>4</th>\n",
       "      <td>Volume Sampling</td>\n",
       "      <td>906</td>\n",
       "      <td>8.645982e+10</td>\n",
       "      <td>90.940000</td>\n",
       "      <td>323.734209</td>\n",
       "      <td>0.966581</td>\n",
       "      <td>KDD</td>\n",
       "      <td>2.040426e+10</td>\n",
       "      <td>0.298187</td>\n",
       "      <td>2.0</td>\n",
       "    </tr>\n",
       "    <tr>\n",
       "      <th>...</th>\n",
       "      <td>...</td>\n",
       "      <td>...</td>\n",
       "      <td>...</td>\n",
       "      <td>...</td>\n",
       "      <td>...</td>\n",
       "      <td>...</td>\n",
       "      <td>...</td>\n",
       "      <td>...</td>\n",
       "      <td>...</td>\n",
       "      <td>...</td>\n",
       "    </tr>\n",
       "    <tr>\n",
       "      <th>62</th>\n",
       "      <td>Lightweight Coresets</td>\n",
       "      <td>3500</td>\n",
       "      <td>1.919632e+06</td>\n",
       "      <td>94.166667</td>\n",
       "      <td>0.680786</td>\n",
       "      <td>0.964250</td>\n",
       "      <td>FMNIST</td>\n",
       "      <td>1.906652e+06</td>\n",
       "      <td>1.470711</td>\n",
       "      <td>NaN</td>\n",
       "    </tr>\n",
       "    <tr>\n",
       "      <th>63</th>\n",
       "      <td>Lightweight Coresets</td>\n",
       "      <td>5000</td>\n",
       "      <td>1.914712e+06</td>\n",
       "      <td>91.666667</td>\n",
       "      <td>0.422711</td>\n",
       "      <td>0.981262</td>\n",
       "      <td>FMNIST</td>\n",
       "      <td>1.906652e+06</td>\n",
       "      <td>2.005592</td>\n",
       "      <td>NaN</td>\n",
       "    </tr>\n",
       "    <tr>\n",
       "      <th>64</th>\n",
       "      <td>Lightweight Coresets</td>\n",
       "      <td>7000</td>\n",
       "      <td>1.916026e+06</td>\n",
       "      <td>88.333333</td>\n",
       "      <td>0.491659</td>\n",
       "      <td>0.972177</td>\n",
       "      <td>FMNIST</td>\n",
       "      <td>1.906652e+06</td>\n",
       "      <td>2.750548</td>\n",
       "      <td>NaN</td>\n",
       "    </tr>\n",
       "    <tr>\n",
       "      <th>65</th>\n",
       "      <td>Lightweight Coresets</td>\n",
       "      <td>10000</td>\n",
       "      <td>1.912398e+06</td>\n",
       "      <td>83.333333</td>\n",
       "      <td>0.301370</td>\n",
       "      <td>0.979475</td>\n",
       "      <td>FMNIST</td>\n",
       "      <td>1.906652e+06</td>\n",
       "      <td>6.492139</td>\n",
       "      <td>NaN</td>\n",
       "    </tr>\n",
       "    <tr>\n",
       "      <th>66</th>\n",
       "      <td>Lightweight Coresets</td>\n",
       "      <td>20000</td>\n",
       "      <td>1.908023e+06</td>\n",
       "      <td>66.666667</td>\n",
       "      <td>0.071891</td>\n",
       "      <td>0.991701</td>\n",
       "      <td>FMNIST</td>\n",
       "      <td>1.906652e+06</td>\n",
       "      <td>6.524269</td>\n",
       "      <td>NaN</td>\n",
       "    </tr>\n",
       "  </tbody>\n",
       "</table>\n",
       "<p>67 rows × 10 columns</p>\n",
       "</div>"
      ],
      "text/plain": [
       "           Sampling Type  Coreset Size  Average Cost  Reduction in Data Size  \\\n",
       "0        Volume Sampling           474  1.150492e+11               95.260000   \n",
       "1        Volume Sampling           475  1.326848e+11               95.250000   \n",
       "2        Volume Sampling           478  1.755777e+11               95.220000   \n",
       "3        Volume Sampling           926  5.792439e+10               90.740000   \n",
       "4        Volume Sampling           906  8.645982e+10               90.940000   \n",
       "..                   ...           ...           ...                     ...   \n",
       "62  Lightweight Coresets          3500  1.919632e+06               94.166667   \n",
       "63  Lightweight Coresets          5000  1.914712e+06               91.666667   \n",
       "64  Lightweight Coresets          7000  1.916026e+06               88.333333   \n",
       "65  Lightweight Coresets         10000  1.912398e+06               83.333333   \n",
       "66  Lightweight Coresets         20000  1.908023e+06               66.666667   \n",
       "\n",
       "         Error  Avg Rand Index    Data  Optimal Cost  Avg Time  \\\n",
       "0   463.848772        0.963519     KDD  2.040426e+10  0.211612   \n",
       "1   550.279722        0.966513     KDD  2.040426e+10  0.221085   \n",
       "2   760.495267        0.953055     KDD  2.040426e+10  0.255715   \n",
       "3   183.883834        0.972418     KDD  2.040426e+10  0.265303   \n",
       "4   323.734209        0.966581     KDD  2.040426e+10  0.298187   \n",
       "..         ...             ...     ...           ...       ...   \n",
       "62    0.680786        0.964250  FMNIST  1.906652e+06  1.470711   \n",
       "63    0.422711        0.981262  FMNIST  1.906652e+06  2.005592   \n",
       "64    0.491659        0.972177  FMNIST  1.906652e+06  2.750548   \n",
       "65    0.301370        0.979475  FMNIST  1.906652e+06  6.492139   \n",
       "66    0.071891        0.991701  FMNIST  1.906652e+06  6.524269   \n",
       "\n",
       "    Num Iterations Volume Sampling  \n",
       "0                              1.0  \n",
       "1                              2.0  \n",
       "2                              5.0  \n",
       "3                              1.0  \n",
       "4                              2.0  \n",
       "..                             ...  \n",
       "62                             NaN  \n",
       "63                             NaN  \n",
       "64                             NaN  \n",
       "65                             NaN  \n",
       "66                             NaN  \n",
       "\n",
       "[67 rows x 10 columns]"
      ]
     },
     "execution_count": 50,
     "metadata": {},
     "output_type": "execute_result"
    }
   ],
   "source": [
    "df = pd.concat([df, pd.DataFrame(results)], ignore_index=True)\n",
    "df"
   ]
  },
  {
   "cell_type": "code",
   "execution_count": 51,
   "metadata": {},
   "outputs": [
    {
     "data": {
      "image/png": "[encoded data removed]",
      "text/plain": [
       "<Figure size 1000x600 with 1 Axes>"
      ]
     },
     "metadata": {},
     "output_type": "display_data"
    }
   ],
   "source": [
    "plt.figure(figsize=(10, 6))\n",
    "plt.plot(df[df['Data'] == 'FMNIST']['Coreset Size'], df[df['Data'] == 'FMNIST']['Error'], marker='o')\n",
    "plt.xlabel('Coreset Size')\n",
    "plt.ylabel('Error')\n",
    "plt.title('Error vs Coreset Size')\n",
    "plt.grid()\n",
    "plt.show()"
   ]
  },
  {
   "cell_type": "code",
   "execution_count": 52,
   "metadata": {},
   "outputs": [],
   "source": [
    "df.to_csv('results.csv', index=False)"
   ]
  },
  {
   "cell_type": "code",
   "execution_count": 58,
   "metadata": {},
   "outputs": [
    {
     "data": {
      "text/plain": [
       "(400, 4096)"
      ]
     },
     "execution_count": 58,
     "metadata": {},
     "output_type": "execute_result"
    }
   ],
   "source": [
    "import scipy.io\n",
    "\n",
    "mat_data = scipy.io.loadmat('olivettifaces.mat')\n",
    "traindata = mat_data['faces'].T\n",
    "traindata = pd.DataFrame(traindata)\n",
    "traindata.dropna()\n",
    "traindata.drop_duplicates()\n",
    "traindata.shape"
   ]
  },
  {
   "cell_type": "code",
   "execution_count": 59,
   "metadata": {},
   "outputs": [
    {
     "name": "stderr",
     "output_type": "stream",
     "text": [
      "/Users/shubhagarwal/anaconda3/envs/nlp/lib/python3.11/site-packages/sklearn/utils/validation.py:767: FutureWarning: is_sparse is deprecated and will be removed in a future version. Check `isinstance(dtype, pd.SparseDtype)` instead.\n",
      "  if not hasattr(array, \"sparse\") and array.dtypes.apply(is_sparse).any():\n",
      "/Users/shubhagarwal/anaconda3/envs/nlp/lib/python3.11/site-packages/sklearn/utils/validation.py:605: FutureWarning: is_sparse is deprecated and will be removed in a future version. Check `isinstance(dtype, pd.SparseDtype)` instead.\n",
      "  if is_sparse(pd_dtype):\n",
      "/Users/shubhagarwal/anaconda3/envs/nlp/lib/python3.11/site-packages/sklearn/utils/validation.py:614: FutureWarning: is_sparse is deprecated and will be removed in a future version. Check `isinstance(dtype, pd.SparseDtype)` instead.\n",
      "  if is_sparse(pd_dtype) or not is_extension_array_dtype(pd_dtype):\n",
      "/Users/shubhagarwal/anaconda3/envs/nlp/lib/python3.11/site-packages/sklearn/cluster/_kmeans.py:870: FutureWarning: The default value of `n_init` will change from 10 to 'auto' in 1.4. Set the value of `n_init` explicitly to suppress the warning\n",
      "  warnings.warn(\n"
     ]
    },
    {
     "name": "stdout",
     "output_type": "stream",
     "text": [
      "Cost of KMeans: 1113896034.8289247\n"
     ]
    }
   ],
   "source": [
    "kmeans = KMeans(n_clusters=10, init=\"k-means++\", random_state=42).fit(traindata)\n",
    "optimal_labels = kmeans.labels_\n",
    "centers = kmeans.cluster_centers_\n",
    "cost = kmeans_cost(traindata.values, centers, optimal_labels)\n",
    "print(f'Cost of KMeans: {cost}')"
   ]
  },
  {
   "cell_type": "code",
   "execution_count": 60,
   "metadata": {},
   "outputs": [
    {
     "name": "stderr",
     "output_type": "stream",
     "text": [
      "/Users/shubhagarwal/anaconda3/envs/nlp/lib/python3.11/site-packages/sklearn/cluster/_kmeans.py:870: FutureWarning: The default value of `n_init` will change from 10 to 'auto' in 1.4. Set the value of `n_init` explicitly to suppress the warning\n",
      "  warnings.warn(\n",
      "/Users/shubhagarwal/anaconda3/envs/nlp/lib/python3.11/site-packages/sklearn/cluster/_kmeans.py:870: FutureWarning: The default value of `n_init` will change from 10 to 'auto' in 1.4. Set the value of `n_init` explicitly to suppress the warning\n",
      "  warnings.warn(\n",
      "/Users/shubhagarwal/anaconda3/envs/nlp/lib/python3.11/site-packages/sklearn/cluster/_kmeans.py:870: FutureWarning: The default value of `n_init` will change from 10 to 'auto' in 1.4. Set the value of `n_init` explicitly to suppress the warning\n",
      "  warnings.warn(\n",
      "/Users/shubhagarwal/anaconda3/envs/nlp/lib/python3.11/site-packages/sklearn/cluster/_kmeans.py:870: FutureWarning: The default value of `n_init` will change from 10 to 'auto' in 1.4. Set the value of `n_init` explicitly to suppress the warning\n",
      "  warnings.warn(\n",
      "/Users/shubhagarwal/anaconda3/envs/nlp/lib/python3.11/site-packages/sklearn/cluster/_kmeans.py:870: FutureWarning: The default value of `n_init` will change from 10 to 'auto' in 1.4. Set the value of `n_init` explicitly to suppress the warning\n",
      "  warnings.warn(\n",
      "/var/folders/3v/rry33_750x57lsvldrv0x9480000gn/T/ipykernel_85730/656119987.py:9: ConvergenceWarning: Number of distinct clusters (9) found smaller than n_clusters (10). Possibly due to duplicate points in X.\n",
      "  kmeans = KMeans(n_clusters=n_clusters, init='k-means++').fit(X_sample, sample_weight=weight)\n",
      "/Users/shubhagarwal/anaconda3/envs/nlp/lib/python3.11/site-packages/sklearn/cluster/_kmeans.py:870: FutureWarning: The default value of `n_init` will change from 10 to 'auto' in 1.4. Set the value of `n_init` explicitly to suppress the warning\n",
      "  warnings.warn(\n",
      "/Users/shubhagarwal/anaconda3/envs/nlp/lib/python3.11/site-packages/sklearn/cluster/_kmeans.py:870: FutureWarning: The default value of `n_init` will change from 10 to 'auto' in 1.4. Set the value of `n_init` explicitly to suppress the warning\n",
      "  warnings.warn(\n",
      "/Users/shubhagarwal/anaconda3/envs/nlp/lib/python3.11/site-packages/sklearn/cluster/_kmeans.py:870: FutureWarning: The default value of `n_init` will change from 10 to 'auto' in 1.4. Set the value of `n_init` explicitly to suppress the warning\n",
      "  warnings.warn(\n",
      "/Users/shubhagarwal/anaconda3/envs/nlp/lib/python3.11/site-packages/sklearn/cluster/_kmeans.py:870: FutureWarning: The default value of `n_init` will change from 10 to 'auto' in 1.4. Set the value of `n_init` explicitly to suppress the warning\n",
      "  warnings.warn(\n",
      "/Users/shubhagarwal/anaconda3/envs/nlp/lib/python3.11/site-packages/sklearn/cluster/_kmeans.py:870: FutureWarning: The default value of `n_init` will change from 10 to 'auto' in 1.4. Set the value of `n_init` explicitly to suppress the warning\n",
      "  warnings.warn(\n",
      "/Users/shubhagarwal/anaconda3/envs/nlp/lib/python3.11/site-packages/sklearn/cluster/_kmeans.py:870: FutureWarning: The default value of `n_init` will change from 10 to 'auto' in 1.4. Set the value of `n_init` explicitly to suppress the warning\n",
      "  warnings.warn(\n",
      "/Users/shubhagarwal/anaconda3/envs/nlp/lib/python3.11/site-packages/sklearn/cluster/_kmeans.py:870: FutureWarning: The default value of `n_init` will change from 10 to 'auto' in 1.4. Set the value of `n_init` explicitly to suppress the warning\n",
      "  warnings.warn(\n",
      "/Users/shubhagarwal/anaconda3/envs/nlp/lib/python3.11/site-packages/sklearn/cluster/_kmeans.py:870: FutureWarning: The default value of `n_init` will change from 10 to 'auto' in 1.4. Set the value of `n_init` explicitly to suppress the warning\n",
      "  warnings.warn(\n",
      "/Users/shubhagarwal/anaconda3/envs/nlp/lib/python3.11/site-packages/sklearn/cluster/_kmeans.py:870: FutureWarning: The default value of `n_init` will change from 10 to 'auto' in 1.4. Set the value of `n_init` explicitly to suppress the warning\n",
      "  warnings.warn(\n",
      "/Users/shubhagarwal/anaconda3/envs/nlp/lib/python3.11/site-packages/sklearn/cluster/_kmeans.py:870: FutureWarning: The default value of `n_init` will change from 10 to 'auto' in 1.4. Set the value of `n_init` explicitly to suppress the warning\n",
      "  warnings.warn(\n",
      "/Users/shubhagarwal/anaconda3/envs/nlp/lib/python3.11/site-packages/sklearn/cluster/_kmeans.py:870: FutureWarning: The default value of `n_init` will change from 10 to 'auto' in 1.4. Set the value of `n_init` explicitly to suppress the warning\n",
      "  warnings.warn(\n",
      "/Users/shubhagarwal/anaconda3/envs/nlp/lib/python3.11/site-packages/sklearn/cluster/_kmeans.py:870: FutureWarning: The default value of `n_init` will change from 10 to 'auto' in 1.4. Set the value of `n_init` explicitly to suppress the warning\n",
      "  warnings.warn(\n",
      "/Users/shubhagarwal/anaconda3/envs/nlp/lib/python3.11/site-packages/sklearn/cluster/_kmeans.py:870: FutureWarning: The default value of `n_init` will change from 10 to 'auto' in 1.4. Set the value of `n_init` explicitly to suppress the warning\n",
      "  warnings.warn(\n",
      "/Users/shubhagarwal/anaconda3/envs/nlp/lib/python3.11/site-packages/sklearn/cluster/_kmeans.py:870: FutureWarning: The default value of `n_init` will change from 10 to 'auto' in 1.4. Set the value of `n_init` explicitly to suppress the warning\n",
      "  warnings.warn(\n",
      "/Users/shubhagarwal/anaconda3/envs/nlp/lib/python3.11/site-packages/sklearn/cluster/_kmeans.py:870: FutureWarning: The default value of `n_init` will change from 10 to 'auto' in 1.4. Set the value of `n_init` explicitly to suppress the warning\n",
      "  warnings.warn(\n",
      "/Users/shubhagarwal/anaconda3/envs/nlp/lib/python3.11/site-packages/sklearn/cluster/_kmeans.py:870: FutureWarning: The default value of `n_init` will change from 10 to 'auto' in 1.4. Set the value of `n_init` explicitly to suppress the warning\n",
      "  warnings.warn(\n",
      "/Users/shubhagarwal/anaconda3/envs/nlp/lib/python3.11/site-packages/sklearn/cluster/_kmeans.py:870: FutureWarning: The default value of `n_init` will change from 10 to 'auto' in 1.4. Set the value of `n_init` explicitly to suppress the warning\n",
      "  warnings.warn(\n",
      "/Users/shubhagarwal/anaconda3/envs/nlp/lib/python3.11/site-packages/sklearn/cluster/_kmeans.py:870: FutureWarning: The default value of `n_init` will change from 10 to 'auto' in 1.4. Set the value of `n_init` explicitly to suppress the warning\n",
      "  warnings.warn(\n",
      "/Users/shubhagarwal/anaconda3/envs/nlp/lib/python3.11/site-packages/sklearn/cluster/_kmeans.py:870: FutureWarning: The default value of `n_init` will change from 10 to 'auto' in 1.4. Set the value of `n_init` explicitly to suppress the warning\n",
      "  warnings.warn(\n",
      "/Users/shubhagarwal/anaconda3/envs/nlp/lib/python3.11/site-packages/sklearn/cluster/_kmeans.py:870: FutureWarning: The default value of `n_init` will change from 10 to 'auto' in 1.4. Set the value of `n_init` explicitly to suppress the warning\n",
      "  warnings.warn(\n"
     ]
    }
   ],
   "source": [
    "results = get_results([10, 20, 50, 70, 100], 10, traindata.values, optimal_labels, cost, 'Olivetti')"
   ]
  },
  {
   "cell_type": "code",
   "execution_count": 61,
   "metadata": {},
   "outputs": [
    {
     "data": {
      "text/plain": [
       "[{'Sampling Type': 'Lightweight Coresets',\n",
       "  'Coreset Size': 10,\n",
       "  'Average Cost': 2009795555.9519997,\n",
       "  'Reduction in Data Size': 97.5,\n",
       "  'Error': 80.42936621645033,\n",
       "  'Avg Rand Index': 0.7994461152882205,\n",
       "  'Data': 'Olivetti',\n",
       "  'Optimal Cost': 1113896034.8289247,\n",
       "  'Avg Time': 0.2757021427154541},\n",
       " {'Sampling Type': 'Lightweight Coresets',\n",
       "  'Coreset Size': 20,\n",
       "  'Average Cost': 1605441026.7355871,\n",
       "  'Reduction in Data Size': 95.0,\n",
       "  'Error': 44.12844435541557,\n",
       "  'Avg Rand Index': 0.7668822055137845,\n",
       "  'Data': 'Olivetti',\n",
       "  'Optimal Cost': 1113896034.8289247,\n",
       "  'Avg Time': 0.083245849609375},\n",
       " {'Sampling Type': 'Lightweight Coresets',\n",
       "  'Coreset Size': 50,\n",
       "  'Average Cost': 1357196663.4430695,\n",
       "  'Reduction in Data Size': 87.5,\n",
       "  'Error': 21.842310324007176,\n",
       "  'Avg Rand Index': 0.8426967418546365,\n",
       "  'Data': 'Olivetti',\n",
       "  'Optimal Cost': 1113896034.8289247,\n",
       "  'Avg Time': 0.07857561111450195},\n",
       " {'Sampling Type': 'Lightweight Coresets',\n",
       "  'Coreset Size': 70,\n",
       "  'Average Cost': 1292995382.331276,\n",
       "  'Reduction in Data Size': 82.5,\n",
       "  'Error': 16.078641264744054,\n",
       "  'Avg Rand Index': 0.8492681704260651,\n",
       "  'Data': 'Olivetti',\n",
       "  'Optimal Cost': 1113896034.8289247,\n",
       "  'Avg Time': 0.08756060600280761},\n",
       " {'Sampling Type': 'Lightweight Coresets',\n",
       "  'Coreset Size': 100,\n",
       "  'Average Cost': 1266100586.5777614,\n",
       "  'Reduction in Data Size': 75.0,\n",
       "  'Error': 13.664161375007748,\n",
       "  'Avg Rand Index': 0.8454837092731831,\n",
       "  'Data': 'Olivetti',\n",
       "  'Optimal Cost': 1113896034.8289247,\n",
       "  'Avg Time': 0.10315299034118652}]"
      ]
     },
     "execution_count": 61,
     "metadata": {},
     "output_type": "execute_result"
    }
   ],
   "source": [
    "results"
   ]
  },
  {
   "cell_type": "code",
   "execution_count": 62,
   "metadata": {},
   "outputs": [],
   "source": [
    "df = pd.read_csv('results.csv')\n",
    "df = pd.concat([df, pd.DataFrame(results)], ignore_index=True)\n",
    "df.to_csv('results.csv', index=False)"
   ]
  },
  {
   "cell_type": "code",
   "execution_count": null,
   "metadata": {},
   "outputs": [],
   "source": []
  }
 ],
 "metadata": {
  "kernelspec": {
   "display_name": "pytorch_env",
   "language": "python",
   "name": "python3"
  },
  "language_info": {
   "codemirror_mode": {
    "name": "ipython",
    "version": 3
   },
   "file_extension": ".py",
   "mimetype": "text/x-python",
   "name": "python",
   "nbconvert_exporter": "python",
   "pygments_lexer": "ipython3",
   "version": "3.11.5"
  }
 },
 "nbformat": 4,
 "nbformat_minor": 2
}
